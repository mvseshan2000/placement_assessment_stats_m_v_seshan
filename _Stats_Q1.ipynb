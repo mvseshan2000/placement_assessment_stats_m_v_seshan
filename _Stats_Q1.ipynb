{
 "cells": [
  {
   "cell_type": "markdown",
   "metadata": {},
   "source": [
    "# Q-1:\n",
    "A university wants to understand the relationship between the SAT scores of its\n",
    "applicants and their college GPA. They collect data on 500 students, including their SAT\n",
    "scores (out of 1600) and their college GPA (on a 4.0 scale). They find that the correlation\n",
    "coefficient between SAT scores and college GPA is 0.7. What does this correlation\n",
    "coefficient indicate about the relationship between SAT scores and college GPA?\n"
   ]
  },
  {
   "cell_type": "markdown",
   "metadata": {},
   "source": [
    "The correlation coefficient measures the degree of relationship between two variables. It is obtained by dividing the covariance of the two variables by the product of their standard deviations. The coefficient ranges from -1 to 1, with 0 indicating the weakest correlation, 1 representing a strong positive correlation, and -1 representing a strong negative correlation.\n",
    "\n",
    "In this particular instance, a correlation coefficient of 0.7 suggests a significant positive correlation between SAT scores and GPA. This implies that higher SAT scores are highly likely to be associated with higher GPAs, and vice versa."
   ]
  }
 ],
 "metadata": {
  "kernelspec": {
   "display_name": "Python 3 (ipykernel)",
   "language": "python",
   "name": "python3"
  },
  "language_info": {
   "codemirror_mode": {
    "name": "ipython",
    "version": 3
   },
   "file_extension": ".py",
   "mimetype": "text/x-python",
   "name": "python",
   "nbconvert_exporter": "python",
   "pygments_lexer": "ipython3",
   "version": "3.10.9"
  }
 },
 "nbformat": 4,
 "nbformat_minor": 4
}
